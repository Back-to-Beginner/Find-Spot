{
 "cells": [
  {
   "cell_type": "code",
   "execution_count": 1,
   "outputs": [],
   "source": [
    "import cv2 as cv2\n",
    "import numpy as np\n",
    "import urllib\n",
    "from skimage.metrics import structural_similarity as ssim\n",
    "import matplotlib.pyplot as plt\n",
    "from sklearn.neighbors import KNeighborsClassifier\n",
    "\n",
    "# // 비교 알고리즘의 이름들을 리스트에 저장\n",
    "methods = ['CORREL',  # cv2.HISTCMP_CORREL: 상관관계 (1: 완전 일치, -1: 완전 불일치, 0: 무관계)\n",
    "           'CHISQR',  # cv2.HISTCMP_CHISQR: 카이제곱 (0: 완전 일치, 무한대: 완전 불일치)\n",
    "           'INTERSECT',  # cv2.HISTCMP_INTERSECT: 교차 (1: 완전 일치, 0: 완전 불일치 - 1로 정규화한 경우)\n",
    "           'BHATTACHARYYA',  # cv2.HISTCMP_BHATTACHARYYA 값이 작을수록 유사한 것으로 판단\n",
    "           'EMD'\n",
    "           ]\n",
    "\n",
    "mission = \"https://findspot.s3.ap-northeast-2.amazonaws.com/static/40942aa9-02f1-4ab5-a483-2163b7c6c45c.png\"\n",
    "success = \"https://findspot.s3.ap-northeast-2.amazonaws.com/static/9d3276c2-5aca-4416-bd67-400a8b421f69.png\"\n",
    "fail = \"https://findspot.s3.ap-northeast-2.amazonaws.com/static/c802a2c8-3441-4fa8-8c28-448799e4efaa.png\"\n",
    "\n",
    "knn = KNeighborsClassifier(n_neighbors=1)\n",
    "\n",
    "\n",
    "def url_to_image(url):\n",
    "    resp = urllib.request.urlopen(url)\n",
    "    image = np.asarray(bytearray(resp.read()), dtype=\"uint8\")\n",
    "    image = cv2.imdecode(image, cv2.IMREAD_COLOR)\n",
    "    image = image[135:330, 130:245].copy()  # 세로, 가로\n",
    "    return image\n",
    "\n",
    "\n",
    "def slice_image(img, slice):\n",
    "    img = cv2.resize(img, [360, 360])\n",
    "    return img[slice[0]:slice[1], slice[2]:slice[3]]\n",
    "\n",
    "\n",
    "def check_simular(mission, trial, slice):\n",
    "    # 이미지 읽어오기\n",
    "    # imgs = [url_to_image(mission), url_to_image(trial)]\n",
    "    imgs = [slice_image(mission, slice), slice_image(trial, slice)]\n",
    "\n",
    "    hists = []\n",
    "    grays = []\n",
    "    for img in imgs:\n",
    "        hists.append(image_to_hsv(img))\n",
    "        grays.append(image_to_gray(img))\n",
    "\n",
    "    result = [\n",
    "        cv2.compareHist(hists[0], hists[1], 0),\n",
    "        cv2.compareHist(hists[0], hists[1], 2) / np.sum(hists[0]),\n",
    "        cv2.compareHist(hists[0], hists[1], 3),\n",
    "        ssim(grays[0], grays[1], full=True)\n",
    "    ]\n",
    "    # cv2.HISTCMP_CORREL: 상관관계 (1: 완전 일치, -1: 완전 불일치, 0: 무관계)\n",
    "    # cv2.HISTCMP_INTERSECT: 교차 (1: 완전 일치, 0: 완전 불일치 - 1로 정규화한 경우)\n",
    "    # cv2.HISTCMP_BHATTACHARYYA 값이 작을수록 유사한 것으로 판단\n",
    "    # ssim 1에 근접할 수록 유사한 이미지\n",
    "\n",
    "    # print(result[0], result[1], result[2], result[3][0])\n",
    "\n",
    "    return result[0] + result[1] - result[2], result[3][0]\n",
    "\n",
    "\n",
    "def image_to_hsv(img):\n",
    "    # BGR 이미지를 HSV 이미지로 변환\n",
    "    hsv = cv2.cvtColor(img, cv2.COLOR_BGR2HSV)\n",
    "    hsv = cv2.resize(hsv, dsize=(360, 360))\n",
    "    # 히스토그램 연산(파라미터 순서 : 이미지, 채널, Mask, 크기, 범위)\n",
    "    hist = cv2.calcHist([hsv], [0, 1], None, [360, 360], [0, 360, 0, 360])\n",
    "    # 정규화(파라미터 순서 : 정규화 전 데이터, 정규화 후 데이터, 시작 범위, 끝 범위, 정규화 알고리즘)\n",
    "    cv2.normalize(hist, hist, 0, 1, cv2.NORM_MINMAX)\n",
    "    # hists 리스트에 저장\n",
    "    return hist\n",
    "\n",
    "\n",
    "def image_to_gray(img):\n",
    "    # // BGR 이미지를 GRAY 이미지로 변환\n",
    "    img = cv2.resize(img, [360, 360])\n",
    "    gray = cv2.cvtColor(img, cv2.COLOR_BGR2GRAY)\n",
    "    return gray"
   ],
   "metadata": {
    "collapsed": false
   }
  },
  {
   "cell_type": "code",
   "execution_count": 2,
   "outputs": [],
   "source": [
    "index = ['pha', 'sna', 'sil', 'wel', 'box', 'scr', 'rev']\n",
    "\n",
    "pha = cv2.imread('image/pha.png', cv2.IMREAD_COLOR)\n",
    "pha_slice = [130, 230, 120, 300]\n",
    "pha_s = []\n",
    "pha_f = []\n",
    "\n",
    "sna = cv2.imread('image/sna.png')\n",
    "sna_slice = [100, 290, 120, 360]\n",
    "sna_s = []\n",
    "sna_f = []\n",
    "\n",
    "sil = cv2.imread('image/sil.png')\n",
    "sil_slice = [160, 230, 170, 360]\n",
    "sil_s = []\n",
    "sil_f = []\n",
    "\n",
    "wel = cv2.imread('image/wel.png')\n",
    "wel_slice = [130, 260, 0, 160]\n",
    "wel_s = []\n",
    "wel_f = []\n",
    "\n",
    "box = cv2.imread('image/box.png')\n",
    "box_slice = [130, 280, 0, 180]\n",
    "box_s = []\n",
    "box_f = []\n",
    "\n",
    "scr = cv2.imread('image/scr.png')\n",
    "scr_slice = [0, 360, 130, 360]\n",
    "scr_s = []\n",
    "scr_f = []\n",
    "\n",
    "rev = cv2.imread('image/rev.png')\n",
    "rev_slice = [0, 180, 0, 360]\n",
    "rev_s = []\n",
    "rev_f = []\n",
    "\n",
    "data = [pha_s, pha_f, sna_s, sna_f, sil_s, sil_f, wel_s, wel_f, box_s, box_f, scr_s, scr_f, rev_s, rev_f]"
   ],
   "metadata": {
    "collapsed": false
   }
  },
  {
   "cell_type": "code",
   "execution_count": 4,
   "outputs": [],
   "source": [
    "import os\n",
    "\n",
    "for i, v in enumerate(index):\n",
    "    for j in os.listdir('./image/{}/suc'.format(v)):\n",
    "        data[i * 2].append(cv2.imread('./image/{}/suc/{}'.format(v, j)))\n",
    "    for j in os.listdir('./image/{}/fail'.format(v)):\n",
    "        data[i * 2 + 1].append(cv2.imread('./image/{}/fail/{}'.format(v, j)))"
   ],
   "metadata": {
    "collapsed": false
   }
  },
  {
   "cell_type": "code",
   "execution_count": 5,
   "outputs": [],
   "source": [
    "x = []\n",
    "y = []\n",
    "classes = []\n",
    "\n",
    "\n",
    "def insert(mission, trial, slice):\n",
    "    mission = cv2.resize(mission, [360, 360])\n",
    "    trial = cv2.resize(trial, [360, 360])\n",
    "    res = check_simular(mission, trial, slice)\n",
    "    x.append(res[0])\n",
    "    y.append(res[1])\n",
    "\n",
    "# insert(mission, mission)\n",
    "# insert(mission, success)\n",
    "# insert(mission, fail)"
   ],
   "metadata": {
    "collapsed": false
   }
  },
  {
   "cell_type": "code",
   "execution_count": 6,
   "outputs": [],
   "source": [
    "for i, v in enumerate(data):\n",
    "    for j in v:\n",
    "        try:\n",
    "            insert(pha, j, pha_slice)\n",
    "            if i in [0]:\n",
    "                classes.append(0)\n",
    "            else:\n",
    "                classes.append(1)\n",
    "        except Exception as e:\n",
    "            pass"
   ],
   "metadata": {
    "collapsed": false
   }
  },
  {
   "cell_type": "code",
   "execution_count": 7,
   "outputs": [],
   "source": [
    "for i, v in enumerate(data):\n",
    "    for j in v:\n",
    "        try:\n",
    "            insert(sna, j, sna_slice)\n",
    "            if i in [2]:\n",
    "                classes.append(0)\n",
    "            else:\n",
    "                classes.append(1)\n",
    "        except Exception as e:\n",
    "            pass"
   ],
   "metadata": {
    "collapsed": false
   }
  },
  {
   "cell_type": "code",
   "execution_count": 8,
   "outputs": [],
   "source": [
    "for i, v in enumerate(data):\n",
    "    for j in v:\n",
    "        try:\n",
    "            insert(sil, j, sil_slice)\n",
    "            if i in [4]:\n",
    "                classes.append(0)\n",
    "            else:\n",
    "                classes.append(1)\n",
    "        except Exception as e:\n",
    "            pass"
   ],
   "metadata": {
    "collapsed": false
   }
  },
  {
   "cell_type": "code",
   "execution_count": 9,
   "outputs": [],
   "source": [
    "for i, v in enumerate(data):\n",
    "    for j in v:\n",
    "        try:\n",
    "            insert(wel, j, wel_slice)\n",
    "            if i in [6, 7]:\n",
    "                classes.append(0)\n",
    "            else:\n",
    "                classes.append(1)\n",
    "        except Exception as e:\n",
    "            pass"
   ],
   "metadata": {
    "collapsed": false
   }
  },
  {
   "cell_type": "code",
   "execution_count": 10,
   "outputs": [],
   "source": [
    "for i, v in enumerate(data):\n",
    "    for j in v:\n",
    "        try:\n",
    "            insert(box, j, box_slice)\n",
    "            if i in [8, 9]:\n",
    "                classes.append(0)\n",
    "            else:\n",
    "                classes.append(1)\n",
    "        except Exception as e:\n",
    "            pass"
   ],
   "metadata": {
    "collapsed": false
   }
  },
  {
   "cell_type": "code",
   "execution_count": 11,
   "outputs": [],
   "source": [
    "for i, v in enumerate(data):\n",
    "    for j in v:\n",
    "        try:\n",
    "            insert(scr, j, scr_slice)\n",
    "            if i in [10]:\n",
    "                classes.append(0)\n",
    "            else:\n",
    "                classes.append(1)\n",
    "        except Exception as e:\n",
    "            pass"
   ],
   "metadata": {
    "collapsed": false
   }
  },
  {
   "cell_type": "code",
   "execution_count": 12,
   "outputs": [],
   "source": [
    "for i, v in enumerate(data):\n",
    "    for j in v:\n",
    "        try:\n",
    "            insert(rev, j, rev_slice)\n",
    "            if i in [12, 13]:\n",
    "                classes.append(0)\n",
    "            else:\n",
    "                classes.append(1)\n",
    "        except Exception as e:\n",
    "            pass"
   ],
   "metadata": {
    "collapsed": false
   }
  },
  {
   "cell_type": "code",
   "execution_count": 13,
   "outputs": [
    {
     "data": {
      "text/plain": "<Figure size 640x480 with 1 Axes>",
      "image/png": "[encoded data removed]"
     },
     "metadata": {},
     "output_type": "display_data"
    }
   ],
   "source": [
    "plt.scatter(x, y, c=classes)\n",
    "plt.show()"
   ],
   "metadata": {
    "collapsed": false
   }
  },
  {
   "cell_type": "code",
   "execution_count": 14,
   "outputs": [
    {
     "name": "stdout",
     "output_type": "stream",
     "text": [
      "[0]\n"
     ]
    }
   ],
   "source": [
    "predict = knn.fit(list(zip(x, y)), classes)\n",
    "\n",
    "mission = cv2.resize(pha, [360, 360])\n",
    "trial = cv2.resize(data[0][12], [360, 360])\n",
    "res = check_simular(mission, trial, pha_slice)\n",
    "\n",
    "pred = knn.predict([res])\n",
    "print(pred)"
   ],
   "metadata": {
    "collapsed": false
   }
  },
  {
   "cell_type": "code",
   "execution_count": 23,
   "outputs": [
    {
     "data": {
      "text/plain": "['./model/model.joblib']"
     },
     "execution_count": 23,
     "metadata": {},
     "output_type": "execute_result"
    }
   ],
   "source": [
    "from joblib import dump, load\n",
    "\n",
    "dump(predict, './model/model.joblib')"
   ],
   "metadata": {
    "collapsed": false
   }
  },
  {
   "cell_type": "code",
   "execution_count": 16,
   "outputs": [],
   "source": [
    "m = load('./model/model.joblib')"
   ],
   "metadata": {
    "collapsed": false
   }
  },
  {
   "cell_type": "code",
   "execution_count": 20,
   "outputs": [
    {
     "name": "stdout",
     "output_type": "stream",
     "text": [
      "[0]\n"
     ]
    }
   ],
   "source": [
    "print(m.predict([res]))"
   ],
   "metadata": {
    "collapsed": false
   }
  },
  {
   "cell_type": "code",
   "execution_count": null,
   "outputs": [],
   "source": [],
   "metadata": {
    "collapsed": false
   }
  }
 ],
 "metadata": {
  "kernelspec": {
   "display_name": "Python 3",
   "language": "python",
   "name": "python3"
  },
  "language_info": {
   "codemirror_mode": {
    "name": "ipython",
    "version": 2
   },
   "file_extension": ".py",
   "mimetype": "text/x-python",
   "name": "python",
   "nbconvert_exporter": "python",
   "pygments_lexer": "ipython2",
   "version": "2.7.6"
  }
 },
 "nbformat": 4,
 "nbformat_minor": 0
}
